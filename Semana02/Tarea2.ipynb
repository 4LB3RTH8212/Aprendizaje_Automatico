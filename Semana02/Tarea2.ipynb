{
 "cells": [
  {
   "cell_type": "markdown",
   "metadata": {},
   "source": [
    "# Semana 02 Datos\n",
    "## Tarea 02: Carga y Preprocesamiento de Datos.\n",
    "### Parte 01: Carga de datos"
   ]
  },
  {
   "cell_type": "code",
   "execution_count": 110,
   "metadata": {},
   "outputs": [],
   "source": [
    "#Importamos las paqueterias necesarias para la lectura de datos.\n",
    "import pandas as pd\n",
    "import numpy as np"
   ]
  },
  {
   "cell_type": "code",
   "execution_count": 111,
   "metadata": {},
   "outputs": [],
   "source": [
    "#Lectura de datos\n",
    "application = pd.read_csv('../Datasets/application_record.csv')\n",
    "credit = pd.read_csv('../Datasets/credit_record.csv')\n"
   ]
  },
  {
   "cell_type": "code",
   "execution_count": 112,
   "metadata": {},
   "outputs": [
    {
     "name": "stdout",
     "output_type": "stream",
     "text": [
      "<class 'pandas.core.frame.DataFrame'>\n",
      "RangeIndex: 438557 entries, 0 to 438556\n",
      "Data columns (total 18 columns):\n",
      " #   Column                 Non-Null Count   Dtype  \n",
      "---  ------                 --------------   -----  \n",
      " 0   ID                     438557 non-null  int64  \n",
      " 1   Genero                 438557 non-null  object \n",
      " 2   Dueño_Carro            438557 non-null  object \n",
      " 3   Dueño_Propiedad        438557 non-null  object \n",
      " 4   Num_Hijos              438557 non-null  int64  \n",
      " 5   Ingresos_Anuales       438557 non-null  float64\n",
      " 6   Tipo_de_Ingresos       438557 non-null  object \n",
      " 7   Nivel_Educación        438557 non-null  object \n",
      " 8   Estado_Civil           438557 non-null  object \n",
      " 9   Tipo_de_Vivienda       438557 non-null  object \n",
      " 10  Días_desde_Cumpleaños  438557 non-null  int64  \n",
      " 11  Días_desde_Empleo      438557 non-null  int64  \n",
      " 12  Celular                438557 non-null  int64  \n",
      " 13  Telefono_Trabajo       438557 non-null  int64  \n",
      " 14  Telefono               438557 non-null  int64  \n",
      " 15  Correo                 438557 non-null  int64  \n",
      " 16  Ocupación              304354 non-null  object \n",
      " 17  Num_Familia            438557 non-null  float64\n",
      "dtypes: float64(2), int64(8), object(8)\n",
      "memory usage: 60.2+ MB\n",
      "None\n"
     ]
    },
    {
     "data": {
      "text/html": [
       "<div>\n",
       "<style scoped>\n",
       "    .dataframe tbody tr th:only-of-type {\n",
       "        vertical-align: middle;\n",
       "    }\n",
       "\n",
       "    .dataframe tbody tr th {\n",
       "        vertical-align: top;\n",
       "    }\n",
       "\n",
       "    .dataframe thead th {\n",
       "        text-align: right;\n",
       "    }\n",
       "</style>\n",
       "<table border=\"1\" class=\"dataframe\">\n",
       "  <thead>\n",
       "    <tr style=\"text-align: right;\">\n",
       "      <th></th>\n",
       "      <th>ID</th>\n",
       "      <th>Genero</th>\n",
       "      <th>Dueño_Carro</th>\n",
       "      <th>Dueño_Propiedad</th>\n",
       "      <th>Num_Hijos</th>\n",
       "      <th>Ingresos_Anuales</th>\n",
       "      <th>Tipo_de_Ingresos</th>\n",
       "      <th>Nivel_Educación</th>\n",
       "      <th>Estado_Civil</th>\n",
       "      <th>Tipo_de_Vivienda</th>\n",
       "      <th>Días_desde_Cumpleaños</th>\n",
       "      <th>Días_desde_Empleo</th>\n",
       "      <th>Celular</th>\n",
       "      <th>Telefono_Trabajo</th>\n",
       "      <th>Telefono</th>\n",
       "      <th>Correo</th>\n",
       "      <th>Ocupación</th>\n",
       "      <th>Num_Familia</th>\n",
       "    </tr>\n",
       "  </thead>\n",
       "  <tbody>\n",
       "    <tr>\n",
       "      <th>0</th>\n",
       "      <td>5008804</td>\n",
       "      <td>M</td>\n",
       "      <td>Y</td>\n",
       "      <td>Y</td>\n",
       "      <td>0</td>\n",
       "      <td>427500.0</td>\n",
       "      <td>Working</td>\n",
       "      <td>Higher education</td>\n",
       "      <td>Civil marriage</td>\n",
       "      <td>Rented apartment</td>\n",
       "      <td>-12005</td>\n",
       "      <td>-4542</td>\n",
       "      <td>1</td>\n",
       "      <td>1</td>\n",
       "      <td>0</td>\n",
       "      <td>0</td>\n",
       "      <td>NaN</td>\n",
       "      <td>2.0</td>\n",
       "    </tr>\n",
       "    <tr>\n",
       "      <th>1</th>\n",
       "      <td>5008805</td>\n",
       "      <td>M</td>\n",
       "      <td>Y</td>\n",
       "      <td>Y</td>\n",
       "      <td>0</td>\n",
       "      <td>427500.0</td>\n",
       "      <td>Working</td>\n",
       "      <td>Higher education</td>\n",
       "      <td>Civil marriage</td>\n",
       "      <td>Rented apartment</td>\n",
       "      <td>-12005</td>\n",
       "      <td>-4542</td>\n",
       "      <td>1</td>\n",
       "      <td>1</td>\n",
       "      <td>0</td>\n",
       "      <td>0</td>\n",
       "      <td>NaN</td>\n",
       "      <td>2.0</td>\n",
       "    </tr>\n",
       "    <tr>\n",
       "      <th>2</th>\n",
       "      <td>5008806</td>\n",
       "      <td>M</td>\n",
       "      <td>Y</td>\n",
       "      <td>Y</td>\n",
       "      <td>0</td>\n",
       "      <td>112500.0</td>\n",
       "      <td>Working</td>\n",
       "      <td>Secondary / secondary special</td>\n",
       "      <td>Married</td>\n",
       "      <td>House / apartment</td>\n",
       "      <td>-21474</td>\n",
       "      <td>-1134</td>\n",
       "      <td>1</td>\n",
       "      <td>0</td>\n",
       "      <td>0</td>\n",
       "      <td>0</td>\n",
       "      <td>Security staff</td>\n",
       "      <td>2.0</td>\n",
       "    </tr>\n",
       "    <tr>\n",
       "      <th>3</th>\n",
       "      <td>5008808</td>\n",
       "      <td>F</td>\n",
       "      <td>N</td>\n",
       "      <td>Y</td>\n",
       "      <td>0</td>\n",
       "      <td>270000.0</td>\n",
       "      <td>Commercial associate</td>\n",
       "      <td>Secondary / secondary special</td>\n",
       "      <td>Single / not married</td>\n",
       "      <td>House / apartment</td>\n",
       "      <td>-19110</td>\n",
       "      <td>-3051</td>\n",
       "      <td>1</td>\n",
       "      <td>0</td>\n",
       "      <td>1</td>\n",
       "      <td>1</td>\n",
       "      <td>Sales staff</td>\n",
       "      <td>1.0</td>\n",
       "    </tr>\n",
       "    <tr>\n",
       "      <th>4</th>\n",
       "      <td>5008809</td>\n",
       "      <td>F</td>\n",
       "      <td>N</td>\n",
       "      <td>Y</td>\n",
       "      <td>0</td>\n",
       "      <td>270000.0</td>\n",
       "      <td>Commercial associate</td>\n",
       "      <td>Secondary / secondary special</td>\n",
       "      <td>Single / not married</td>\n",
       "      <td>House / apartment</td>\n",
       "      <td>-19110</td>\n",
       "      <td>-3051</td>\n",
       "      <td>1</td>\n",
       "      <td>0</td>\n",
       "      <td>1</td>\n",
       "      <td>1</td>\n",
       "      <td>Sales staff</td>\n",
       "      <td>1.0</td>\n",
       "    </tr>\n",
       "  </tbody>\n",
       "</table>\n",
       "</div>"
      ],
      "text/plain": [
       "        ID Genero Dueño_Carro Dueño_Propiedad  Num_Hijos  Ingresos_Anuales  \\\n",
       "0  5008804      M           Y               Y          0          427500.0   \n",
       "1  5008805      M           Y               Y          0          427500.0   \n",
       "2  5008806      M           Y               Y          0          112500.0   \n",
       "3  5008808      F           N               Y          0          270000.0   \n",
       "4  5008809      F           N               Y          0          270000.0   \n",
       "\n",
       "       Tipo_de_Ingresos                Nivel_Educación          Estado_Civil  \\\n",
       "0               Working               Higher education        Civil marriage   \n",
       "1               Working               Higher education        Civil marriage   \n",
       "2               Working  Secondary / secondary special               Married   \n",
       "3  Commercial associate  Secondary / secondary special  Single / not married   \n",
       "4  Commercial associate  Secondary / secondary special  Single / not married   \n",
       "\n",
       "    Tipo_de_Vivienda  Días_desde_Cumpleaños  Días_desde_Empleo  Celular  \\\n",
       "0   Rented apartment                 -12005              -4542        1   \n",
       "1   Rented apartment                 -12005              -4542        1   \n",
       "2  House / apartment                 -21474              -1134        1   \n",
       "3  House / apartment                 -19110              -3051        1   \n",
       "4  House / apartment                 -19110              -3051        1   \n",
       "\n",
       "   Telefono_Trabajo  Telefono  Correo       Ocupación  Num_Familia  \n",
       "0                 1         0       0             NaN          2.0  \n",
       "1                 1         0       0             NaN          2.0  \n",
       "2                 0         0       0  Security staff          2.0  \n",
       "3                 0         1       1     Sales staff          1.0  \n",
       "4                 0         1       1     Sales staff          1.0  "
      ]
     },
     "execution_count": 112,
     "metadata": {},
     "output_type": "execute_result"
    }
   ],
   "source": [
    "#Renombramos las columnas para mejor lectura\n",
    "application.columns = [\n",
    "    'ID', 'Genero', 'Dueño_Carro', 'Dueño_Propiedad', 'Num_Hijos', 'Ingresos_Anuales','Tipo_de_Ingresos', \n",
    "    'Nivel_Educación', 'Estado_Civil', 'Tipo_de_Vivienda', 'Días_desde_Cumpleaños', 'Días_desde_Empleo', \n",
    "    'Celular','Telefono_Trabajo', 'Telefono', 'Correo', 'Ocupación', 'Num_Familia'\n",
    "]\n",
    "print(application.info())\n",
    "application.head(5)\n",
    "\n"
   ]
  },
  {
   "cell_type": "code",
   "execution_count": 113,
   "metadata": {},
   "outputs": [
    {
     "name": "stdout",
     "output_type": "stream",
     "text": [
      "<class 'pandas.core.frame.DataFrame'>\n",
      "RangeIndex: 1048575 entries, 0 to 1048574\n",
      "Data columns (total 3 columns):\n",
      " #   Column          Non-Null Count    Dtype \n",
      "---  ------          --------------    ----- \n",
      " 0   ID              1048575 non-null  int64 \n",
      " 1   Mes extraccion  1048575 non-null  int64 \n",
      " 2   Estado          1048575 non-null  object\n",
      "dtypes: int64(2), object(1)\n",
      "memory usage: 24.0+ MB\n",
      "None\n"
     ]
    },
    {
     "data": {
      "text/html": [
       "<div>\n",
       "<style scoped>\n",
       "    .dataframe tbody tr th:only-of-type {\n",
       "        vertical-align: middle;\n",
       "    }\n",
       "\n",
       "    .dataframe tbody tr th {\n",
       "        vertical-align: top;\n",
       "    }\n",
       "\n",
       "    .dataframe thead th {\n",
       "        text-align: right;\n",
       "    }\n",
       "</style>\n",
       "<table border=\"1\" class=\"dataframe\">\n",
       "  <thead>\n",
       "    <tr style=\"text-align: right;\">\n",
       "      <th></th>\n",
       "      <th>ID</th>\n",
       "      <th>Mes extraccion</th>\n",
       "      <th>Estado</th>\n",
       "    </tr>\n",
       "  </thead>\n",
       "  <tbody>\n",
       "    <tr>\n",
       "      <th>0</th>\n",
       "      <td>5001711</td>\n",
       "      <td>0</td>\n",
       "      <td>X</td>\n",
       "    </tr>\n",
       "    <tr>\n",
       "      <th>1</th>\n",
       "      <td>5001711</td>\n",
       "      <td>-1</td>\n",
       "      <td>0</td>\n",
       "    </tr>\n",
       "    <tr>\n",
       "      <th>2</th>\n",
       "      <td>5001711</td>\n",
       "      <td>-2</td>\n",
       "      <td>0</td>\n",
       "    </tr>\n",
       "    <tr>\n",
       "      <th>3</th>\n",
       "      <td>5001711</td>\n",
       "      <td>-3</td>\n",
       "      <td>0</td>\n",
       "    </tr>\n",
       "    <tr>\n",
       "      <th>4</th>\n",
       "      <td>5001712</td>\n",
       "      <td>0</td>\n",
       "      <td>C</td>\n",
       "    </tr>\n",
       "  </tbody>\n",
       "</table>\n",
       "</div>"
      ],
      "text/plain": [
       "        ID  Mes extraccion Estado\n",
       "0  5001711               0      X\n",
       "1  5001711              -1      0\n",
       "2  5001711              -2      0\n",
       "3  5001711              -3      0\n",
       "4  5001712               0      C"
      ]
     },
     "execution_count": 113,
     "metadata": {},
     "output_type": "execute_result"
    }
   ],
   "source": [
    "#Renombramos las columnas para mejor lectura\n",
    "credit.columns = [\n",
    "    'ID', 'Mes extraccion','Estado'\n",
    "]\n",
    "print(credit.info())\n",
    "credit.head(5)"
   ]
  },
  {
   "cell_type": "markdown",
   "metadata": {},
   "source": [
    "### Parte 02: Preprocesamiento de datos"
   ]
  },
  {
   "cell_type": "markdown",
   "metadata": {},
   "source": [
    "#### Valores Nulos "
   ]
  },
  {
   "cell_type": "code",
   "execution_count": 114,
   "metadata": {},
   "outputs": [
    {
     "data": {
      "text/plain": [
       "ID                            0\n",
       "Genero                        0\n",
       "Dueño_Carro                   0\n",
       "Dueño_Propiedad               0\n",
       "Num_Hijos                     0\n",
       "Ingresos_Anuales              0\n",
       "Tipo_de_Ingresos              0\n",
       "Nivel_Educación               0\n",
       "Estado_Civil                  0\n",
       "Tipo_de_Vivienda              0\n",
       "Días_desde_Cumpleaños         0\n",
       "Días_desde_Empleo             0\n",
       "Celular                       0\n",
       "Telefono_Trabajo              0\n",
       "Telefono                      0\n",
       "Correo                        0\n",
       "Ocupación                134203\n",
       "Num_Familia                   0\n",
       "dtype: int64"
      ]
     },
     "execution_count": 114,
     "metadata": {},
     "output_type": "execute_result"
    }
   ],
   "source": [
    "application.isna().sum()"
   ]
  },
  {
   "cell_type": "code",
   "execution_count": 115,
   "metadata": {},
   "outputs": [
    {
     "data": {
      "text/plain": [
       "ID                0\n",
       "Mes extraccion    0\n",
       "Estado            0\n",
       "dtype: int64"
      ]
     },
     "execution_count": 115,
     "metadata": {},
     "output_type": "execute_result"
    }
   ],
   "source": [
    "credit.isna().sum()"
   ]
  },
  {
   "cell_type": "markdown",
   "metadata": {},
   "source": [
    "#### Valores Duplicados\n"
   ]
  },
  {
   "cell_type": "code",
   "execution_count": 116,
   "metadata": {},
   "outputs": [
    {
     "name": "stdout",
     "output_type": "stream",
     "text": [
      "Duplicates in applications df: 0, (0.0%)\n",
      "\n",
      "Duplicates in record df: 0, (0.0%)\n"
     ]
    }
   ],
   "source": [
    "print(f'Duplicates in applications df: {application.duplicated().sum()}, ({np.round(100*application.duplicated().sum()/len(application),1)}%)')\n",
    "print('')\n",
    "print(f'Duplicates in record df: {credit.duplicated().sum()}, ({np.round(100*credit.duplicated().sum()/len(credit),1)}%)')"
   ]
  },
  {
   "cell_type": "markdown",
   "metadata": {},
   "source": [
    "#### Cardinalidad de las Columnas"
   ]
  },
  {
   "cell_type": "code",
   "execution_count": 117,
   "metadata": {},
   "outputs": [
    {
     "data": {
      "text/plain": [
       "ID                       438510\n",
       "Genero                        2\n",
       "Dueño_Carro                   2\n",
       "Dueño_Propiedad               2\n",
       "Num_Hijos                    12\n",
       "Ingresos_Anuales            866\n",
       "Tipo_de_Ingresos              5\n",
       "Nivel_Educación               5\n",
       "Estado_Civil                  5\n",
       "Tipo_de_Vivienda              6\n",
       "Días_desde_Cumpleaños     16379\n",
       "Días_desde_Empleo          9406\n",
       "Celular                       1\n",
       "Telefono_Trabajo              2\n",
       "Telefono                      2\n",
       "Correo                        2\n",
       "Ocupación                    18\n",
       "Num_Familia                  13\n",
       "dtype: int64"
      ]
     },
     "execution_count": 117,
     "metadata": {},
     "output_type": "execute_result"
    }
   ],
   "source": [
    "application.nunique()"
   ]
  },
  {
   "cell_type": "markdown",
   "metadata": {},
   "source": [
    "### Limpieza de los datos"
   ]
  },
  {
   "cell_type": "markdown",
   "metadata": {},
   "source": [
    "#### Rellenar valores faltantes\n"
   ]
  },
  {
   "cell_type": "code",
   "execution_count": 118,
   "metadata": {},
   "outputs": [],
   "source": [
    "#Rellenar los valores faltantes\n",
    "application['Ocupación'].fillna(value='Other', inplace=True)"
   ]
  },
  {
   "cell_type": "markdown",
   "metadata": {},
   "source": [
    "#### Eliminar columnas constantes\n",
    "Eliminare la columna de Celular ya que es una columna que contiene el mismo dato para todas las filas"
   ]
  },
  {
   "cell_type": "code",
   "execution_count": 119,
   "metadata": {},
   "outputs": [],
   "source": [
    "application.drop('Celular', axis=1, inplace=True)"
   ]
  },
  {
   "cell_type": "markdown",
   "metadata": {},
   "source": [
    "#### Trabajamos algunas columnas"
   ]
  },
  {
   "cell_type": "code",
   "execution_count": 120,
   "metadata": {},
   "outputs": [],
   "source": [
    "#Creamos la columna edad\n",
    "application['Edad_Años'] = application['Días_desde_Cumpleaños']/-365.2425\n",
    "application.drop('Días_desde_Cumpleaños',axis=1,inplace=True)\n",
    "\n",
    "#Creamos la columna de Años con empleo\n",
    "application['Antiguedad_Trabajo'] = application['Días_desde_Empleo']/-365.2425\n",
    "application.loc[application['Días_desde_Empleo']>0,'Antiguedad_Trabajo']=0\n",
    "\n",
    "#Creamos una columna que valide si esta desempleado\n",
    "application['Desempleado']=0\n",
    "application.loc[application['Días_desde_Empleo']>0,'Desempleado']=1\n",
    "\n",
    "application.drop('Días_desde_Empleo',axis=1,inplace=True)\n",
    "\n"
   ]
  },
  {
   "cell_type": "markdown",
   "metadata": {},
   "source": [
    "#### Codificación de Categorias"
   ]
  },
  {
   "cell_type": "code",
   "execution_count": 121,
   "metadata": {},
   "outputs": [],
   "source": [
    "application[\"Genero\"] =  application[\"Genero\"].replace(['F','M'],[0,1])\n",
    "application[\"Dueño_Carro\"] = application[\"Dueño_Carro\"].replace([\"Y\",\"N\"],[1,0])\n",
    "application[\"Dueño_Propiedad\"] = application[\"Dueño_Propiedad\"].replace([\"Y\",\"N\"],[1,0])"
   ]
  },
  {
   "cell_type": "code",
   "execution_count": 122,
   "metadata": {},
   "outputs": [],
   "source": [
    "application['Num_Familia']=application['Num_Familia'].astype('int64')"
   ]
  },
  {
   "cell_type": "code",
   "execution_count": 123,
   "metadata": {},
   "outputs": [
    {
     "data": {
      "text/plain": [
       "ID                      int64\n",
       "Genero                  int64\n",
       "Dueño_Carro             int64\n",
       "Dueño_Propiedad         int64\n",
       "Num_Hijos               int64\n",
       "Ingresos_Anuales      float64\n",
       "Tipo_de_Ingresos       object\n",
       "Nivel_Educación        object\n",
       "Estado_Civil           object\n",
       "Tipo_de_Vivienda       object\n",
       "Telefono_Trabajo        int64\n",
       "Telefono                int64\n",
       "Correo                  int64\n",
       "Ocupación              object\n",
       "Num_Familia             int64\n",
       "Edad_Años             float64\n",
       "Antiguedad_Trabajo    float64\n",
       "Desempleado             int64\n",
       "dtype: object"
      ]
     },
     "execution_count": 123,
     "metadata": {},
     "output_type": "execute_result"
    }
   ],
   "source": [
    "application.dtypes"
   ]
  },
  {
   "cell_type": "markdown",
   "metadata": {},
   "source": [
    "#### Reordenamos las Columnas"
   ]
  },
  {
   "cell_type": "code",
   "execution_count": 124,
   "metadata": {},
   "outputs": [],
   "source": [
    "application_clean =application[['ID', 'Genero', 'Dueño_Carro', 'Dueño_Propiedad', 'Telefono_Trabajo',\n",
    "               'Telefono', 'Correo', 'Desempleado', 'Num_Hijos', 'Num_Familia', 'Ingresos_Anuales', 'Edad_Años', 'Antiguedad_Trabajo',  \n",
    "               'Tipo_de_Ingresos', 'Nivel_Educación', 'Estado_Civil','Tipo_de_Vivienda', 'Ocupación']]"
   ]
  },
  {
   "cell_type": "markdown",
   "metadata": {},
   "source": [
    "### Salida"
   ]
  },
  {
   "cell_type": "code",
   "execution_count": 131,
   "metadata": {},
   "outputs": [
    {
     "name": "stdout",
     "output_type": "stream",
     "text": [
      "<class 'pandas.core.frame.DataFrame'>\n",
      "RangeIndex: 438557 entries, 0 to 438556\n",
      "Data columns (total 18 columns):\n",
      " #   Column              Non-Null Count   Dtype  \n",
      "---  ------              --------------   -----  \n",
      " 0   ID                  438557 non-null  int64  \n",
      " 1   Genero              438557 non-null  int64  \n",
      " 2   Dueño_Carro         438557 non-null  int64  \n",
      " 3   Dueño_Propiedad     438557 non-null  int64  \n",
      " 4   Telefono_Trabajo    438557 non-null  int64  \n",
      " 5   Telefono            438557 non-null  int64  \n",
      " 6   Correo              438557 non-null  int64  \n",
      " 7   Desempleado         438557 non-null  int64  \n",
      " 8   Num_Hijos           438557 non-null  int64  \n",
      " 9   Num_Familia         438557 non-null  int64  \n",
      " 10  Ingresos_Anuales    438557 non-null  float64\n",
      " 11  Edad_Años           438557 non-null  float64\n",
      " 12  Antiguedad_Trabajo  438557 non-null  float64\n",
      " 13  Tipo_de_Ingresos    438557 non-null  object \n",
      " 14  Nivel_Educación     438557 non-null  object \n",
      " 15  Estado_Civil        438557 non-null  object \n",
      " 16  Tipo_de_Vivienda    438557 non-null  object \n",
      " 17  Ocupación           438557 non-null  object \n",
      "dtypes: float64(3), int64(10), object(5)\n",
      "memory usage: 60.2+ MB\n",
      "None\n"
     ]
    }
   ],
   "source": [
    "print(application_clean.info())\n",
    "application_clean.head(10)\n",
    "application_clean.to_excel('../Datasets/application_clean.xlsx')\n",
    "application_clean.to_csv('../Datasets/application_clean.csv', index=False, encoding='utf-8')\n"
   ]
  }
 ],
 "metadata": {
  "kernelspec": {
   "display_name": "Python 3",
   "language": "python",
   "name": "python3"
  },
  "language_info": {
   "codemirror_mode": {
    "name": "ipython",
    "version": 3
   },
   "file_extension": ".py",
   "mimetype": "text/x-python",
   "name": "python",
   "nbconvert_exporter": "python",
   "pygments_lexer": "ipython3",
   "version": "3.12.0"
  }
 },
 "nbformat": 4,
 "nbformat_minor": 2
}
